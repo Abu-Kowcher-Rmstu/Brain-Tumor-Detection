{
  "nbformat": 4,
  "nbformat_minor": 0,
  "metadata": {
    "colab": {
      "name": "BrainTumor.ipynb",
      "provenance": [],
      "collapsed_sections": [],
      "authorship_tag": "ABX9TyOgyE5yhrPcF7YORTOokBtX",
      "include_colab_link": true
    },
    "kernelspec": {
      "name": "python3",
      "display_name": "Python 3"
    },
    "language_info": {
      "name": "python"
    }
  },
  "cells": [
    {
      "cell_type": "markdown",
      "metadata": {
        "id": "view-in-github",
        "colab_type": "text"
      },
      "source": [
        "<a href=\"https://colab.research.google.com/github/Abu-Kowcher-Rmstu/Brain-Tumor-Detection/blob/master/BrainTumor.ipynb\" target=\"_parent\"><img src=\"https://colab.research.google.com/assets/colab-badge.svg\" alt=\"Open In Colab\"/></a>"
      ]
    },
    {
      "cell_type": "code",
      "execution_count": 5,
      "metadata": {
        "id": "NE99-sMje3ys"
      },
      "outputs": [],
      "source": [
        "import warnings\n",
        "warnings.filterwarnings('ignore')\n"
      ]
    },
    {
      "cell_type": "code",
      "source": [
        "!wget https://www.dropbox.com/s/xfmtehoraln8kjs/BrainTumorData.zip?dl=0"
      ],
      "metadata": {
        "id": "KuZadlunhonE"
      },
      "execution_count": null,
      "outputs": []
    },
    {
      "cell_type": "code",
      "source": [
        "!unzip /content/BrainTumorData.zip?dl=0"
      ],
      "metadata": {
        "id": "FyyBjB06iMTW"
      },
      "execution_count": null,
      "outputs": []
    },
    {
      "cell_type": "code",
      "source": [
        "import numpy as np\n",
        "import matplotlib.pyplot as plt\n",
        "import os\n",
        "import math\n",
        "import shutil\n",
        "import glob"
      ],
      "metadata": {
        "id": "qhinD_9yjCNe"
      },
      "execution_count": 6,
      "outputs": []
    },
    {
      "cell_type": "code",
      "source": [
        "#count the number of images in the respective classes 0-tumor, 1-healthy\n",
        "ROOT_DIR = \"/content/BrainTumorData\"\n",
        "number_of_images = {}\n",
        "for dir in os.listdir(ROOT_DIR):\n",
        "  number_of_images[dir] = len(os.listdir(os.path.join(ROOT_DIR,dir)))\n",
        "  number_of_images.items()\n",
        "\n",
        "\n"
      ],
      "metadata": {
        "id": "J88hHtpylHv0"
      },
      "execution_count": 9,
      "outputs": []
    },
    {
      "cell_type": "markdown",
      "source": [
        "#we will split the data such that\n",
        "* 70% for training\n",
        "* 15 percent for validation and 15 percent for testing. "
      ],
      "metadata": {
        "id": "p0tEfN-bnkvl"
      }
    },
    {
      "cell_type": "code",
      "source": [
        ""
      ],
      "metadata": {
        "id": "1pwliQoFmVDF"
      },
      "execution_count": null,
      "outputs": []
    }
  ]
}